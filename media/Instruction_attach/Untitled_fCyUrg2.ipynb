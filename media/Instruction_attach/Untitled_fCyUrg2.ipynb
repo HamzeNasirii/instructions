{
 "cells": [
  {
   "cell_type": "code",
   "execution_count": 11,
   "id": "857f9e80",
   "metadata": {},
   "outputs": [],
   "source": [
    "import csv\n",
    "file = open('data.csv')\n",
    "data = csv.reader(file)\n",
    "\n"
   ]
  },
  {
   "cell_type": "code",
   "execution_count": null,
   "id": "4a187c06",
   "metadata": {},
   "outputs": [],
   "source": []
  }
 ],
 "metadata": {
  "kernelspec": {
   "display_name": "Python 3 (ipykernel)",
   "language": "python",
   "name": "python3"
  },
  "language_info": {
   "codemirror_mode": {
    "name": "ipython",
    "version": 3
   },
   "file_extension": ".py",
   "mimetype": "text/x-python",
   "name": "python",
   "nbconvert_exporter": "python",
   "pygments_lexer": "ipython3",
   "version": "3.9.7"
  }
 },
 "nbformat": 4,
 "nbformat_minor": 5
}
